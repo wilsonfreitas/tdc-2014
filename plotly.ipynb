{
 "metadata": {
  "name": "",
  "signature": "sha256:746ab775fd9e8dafe8cb7c8ae8113e384552d5da046e5cead4b1106d753f1685"
 },
 "nbformat": 3,
 "nbformat_minor": 0,
 "worksheets": [
  {
   "cells": [
    {
     "cell_type": "code",
     "collapsed": false,
     "input": [
      "import plotly.plotly as py\n",
      "from plotly.graph_objs import *\n",
      "\n",
      "py.sign_in(\"wilsonfreitas\", \"ojll8w3m8d\")\n",
      "\n",
      "from datetime import datetime\n",
      "x = [\n",
      "    datetime(year=2013, month=10, day=04),\n",
      "    datetime(year=2013, month=11, day=05),\n",
      "    datetime(year=2013, month=12, day=06)\n",
      "]\n",
      "\n",
      "data = Data([\n",
      "    Scatter(\n",
      "        x=x,\n",
      "        y=[1, 3, 6]\n",
      "    )\n",
      "])\n",
      "\n",
      "plot_url = py.plot(data, filename='python-datetime')"
     ],
     "language": "python",
     "metadata": {},
     "outputs": [
      {
       "output_type": "stream",
       "stream": "stdout",
       "text": [
        "High five! You successfuly sent some data to your account on plotly. View your plot in your browser at https://plot.ly/~wilsonfreitas/0 or inside your plot.ly account where it is named 'python-datetime'\n"
       ]
      }
     ],
     "prompt_number": 2
    },
    {
     "cell_type": "code",
     "collapsed": false,
     "input": [
      "py.iplot(data)"
     ],
     "language": "python",
     "metadata": {},
     "outputs": [
      {
       "html": [
        "<iframe id=\"igraph\" scrolling=\"no\" style=\"border:none;\"seamless=\"seamless\" src=\"https://plot.ly/~wilsonfreitas/1\" height=\"525\" width=\"100%\"></iframe>"
       ],
       "metadata": {},
       "output_type": "display_data",
       "text": [
        "<IPython.core.display.HTML at 0x10c2d78d0>"
       ]
      }
     ],
     "prompt_number": 3
    },
    {
     "cell_type": "code",
     "collapsed": false,
     "input": [],
     "language": "python",
     "metadata": {},
     "outputs": []
    }
   ],
   "metadata": {}
  }
 ]
}